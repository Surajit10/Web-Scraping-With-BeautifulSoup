{
  "nbformat": 4,
  "nbformat_minor": 0,
  "metadata": {
    "colab": {
      "name": "Beautifulsoap.ipynb",
      "provenance": [],
      "authorship_tag": "ABX9TyMylQEOlZqlivOOfy1kJofE",
      "include_colab_link": true
    },
    "kernelspec": {
      "name": "python3",
      "display_name": "Python 3"
    },
    "language_info": {
      "name": "python"
    }
  },
  "cells": [
    {
      "cell_type": "markdown",
      "metadata": {
        "id": "view-in-github",
        "colab_type": "text"
      },
      "source": [
        "<a href=\"https://colab.research.google.com/github/Surajit10/Web-Scraping-With-BeautifulSoup/blob/main/Beautifulsoap.ipynb\" target=\"_parent\"><img src=\"https://colab.research.google.com/assets/colab-badge.svg\" alt=\"Open In Colab\"/></a>"
      ]
    },
    {
      "cell_type": "code",
      "metadata": {
        "id": "MQZjkM6XV2TY"
      },
      "source": [
        "from bs4 import BeautifulSoup"
      ],
      "execution_count": null,
      "outputs": []
    },
    {
      "cell_type": "code",
      "metadata": {
        "id": "ZpP2ZiCcdljR"
      },
      "source": [
        "html_content = \"\"\"<!DOCTYPE html>\n",
        "<html>\n",
        "<head>\n",
        "<title>Page Title</title>\n",
        "</head>\n",
        "<body>\n",
        "\n",
        "<h1>This is a Heading</h1>\n",
        "<p>This is a paragraph.</p>\n",
        "\n",
        "\n",
        "<div class=\"content\">\n",
        "<p class=\"first\">First para</p>\n",
        "<p class=\"second\">second para</p>\n",
        "<a href=\"www.xyz.com\" id=\"link1\">Link1</a>\n",
        "<a href=\"www.abc.com\" id=\"link2\">Link2</a>\n",
        "</div>\n",
        "\n",
        "\n",
        "</body>\n",
        "</html>\"\"\""
      ],
      "execution_count": null,
      "outputs": []
    },
    {
      "cell_type": "code",
      "metadata": {
        "id": "HhhldQeignO4"
      },
      "source": [
        "soup = BeautifulSoup(html_content,'html.parser')"
      ],
      "execution_count": null,
      "outputs": []
    },
    {
      "cell_type": "code",
      "metadata": {
        "colab": {
          "base_uri": "https://localhost:8080/"
        },
        "id": "yqAwn3bR1Li3",
        "outputId": "7cd578dc-1d68-4cba-c776-4ace41022b22"
      },
      "source": [
        "print(soup.prettify())"
      ],
      "execution_count": null,
      "outputs": [
        {
          "output_type": "stream",
          "name": "stdout",
          "text": [
            "<!DOCTYPE html>\n",
            "<html>\n",
            " <head>\n",
            "  <title>\n",
            "   Page Title\n",
            "  </title>\n",
            " </head>\n",
            " <body>\n",
            "  <h1>\n",
            "   This is a Heading\n",
            "  </h1>\n",
            "  <p>\n",
            "   This is a paragraph.\n",
            "  </p>\n",
            "  <div class=\"content\">\n",
            "   <p class=\"first\">\n",
            "    First para\n",
            "   </p>\n",
            "   <p class=\"second\">\n",
            "    second para\n",
            "   </p>\n",
            "   <a href=\"www.xyz.com\" id=\"link1\">\n",
            "    Link1\n",
            "   </a>\n",
            "   <a href=\"www.abc.com\" id=\"link2\">\n",
            "    Link2\n",
            "   </a>\n",
            "  </div>\n",
            " </body>\n",
            "</html>\n"
          ]
        }
      ]
    },
    {
      "cell_type": "code",
      "metadata": {
        "colab": {
          "base_uri": "https://localhost:8080/"
        },
        "id": "ZF00f5Ev1dE4",
        "outputId": "49e93ac5-6e18-4b7e-bbb6-1d74eb4215b8"
      },
      "source": [
        "soup.title"
      ],
      "execution_count": null,
      "outputs": [
        {
          "output_type": "execute_result",
          "data": {
            "text/plain": [
              "<title>Page Title</title>"
            ]
          },
          "metadata": {},
          "execution_count": 7
        }
      ]
    },
    {
      "cell_type": "code",
      "metadata": {
        "colab": {
          "base_uri": "https://localhost:8080/",
          "height": 35
        },
        "id": "hnMuz3pY1oFm",
        "outputId": "86226887-cb2a-41e9-9f5b-41b50dd8246f"
      },
      "source": [
        "soup.title.string"
      ],
      "execution_count": null,
      "outputs": [
        {
          "output_type": "execute_result",
          "data": {
            "application/vnd.google.colaboratory.intrinsic+json": {
              "type": "string"
            },
            "text/plain": [
              "'Page Title'"
            ]
          },
          "metadata": {},
          "execution_count": 8
        }
      ]
    },
    {
      "cell_type": "code",
      "metadata": {
        "colab": {
          "base_uri": "https://localhost:8080/",
          "height": 35
        },
        "id": "QXBux6AB1scu",
        "outputId": "d19804cf-6db5-41a5-9e8e-6fb594981d95"
      },
      "source": [
        "soup.title.text"
      ],
      "execution_count": null,
      "outputs": [
        {
          "output_type": "execute_result",
          "data": {
            "application/vnd.google.colaboratory.intrinsic+json": {
              "type": "string"
            },
            "text/plain": [
              "'Page Title'"
            ]
          },
          "metadata": {},
          "execution_count": 9
        }
      ]
    },
    {
      "cell_type": "code",
      "metadata": {
        "colab": {
          "base_uri": "https://localhost:8080/"
        },
        "id": "anuhU2zE1v-F",
        "outputId": "d0371b33-62e2-4648-a23d-4793534abb0c"
      },
      "source": [
        "soup.h1"
      ],
      "execution_count": null,
      "outputs": [
        {
          "output_type": "execute_result",
          "data": {
            "text/plain": [
              "<h1>This is a Heading</h1>"
            ]
          },
          "metadata": {},
          "execution_count": 11
        }
      ]
    },
    {
      "cell_type": "code",
      "metadata": {
        "colab": {
          "base_uri": "https://localhost:8080/",
          "height": 35
        },
        "id": "e1Xjsz742jOR",
        "outputId": "0c31ef6a-385a-4c97-9067-04e8a20bab11"
      },
      "source": [
        "soup.title.parent.name"
      ],
      "execution_count": null,
      "outputs": [
        {
          "output_type": "execute_result",
          "data": {
            "application/vnd.google.colaboratory.intrinsic+json": {
              "type": "string"
            },
            "text/plain": [
              "'head'"
            ]
          },
          "metadata": {},
          "execution_count": 12
        }
      ]
    },
    {
      "cell_type": "code",
      "metadata": {
        "colab": {
          "base_uri": "https://localhost:8080/"
        },
        "id": "Qz1c1lcc20CE",
        "outputId": "0e825b34-1313-4002-80b6-74cb22aa57e3"
      },
      "source": [
        "soup.div\n"
      ],
      "execution_count": null,
      "outputs": [
        {
          "output_type": "execute_result",
          "data": {
            "text/plain": [
              "<div class=\"content\">\n",
              "<p class=\"first\">First para</p>\n",
              "<p class=\"second\">second para</p>\n",
              "<a href=\"www.xyz.com\" id=\"link1\">Link1</a>\n",
              "<a href=\"www.abc.com\" id=\"link2\">Link2</a>\n",
              "</div>"
            ]
          },
          "metadata": {},
          "execution_count": 28
        }
      ]
    },
    {
      "cell_type": "code",
      "metadata": {
        "colab": {
          "base_uri": "https://localhost:8080/"
        },
        "id": "uC8dJtnI4WCd",
        "outputId": "41acdd83-b649-4eaf-a0ab-0eb9e0354501"
      },
      "source": [
        "for child in list(soup.div.children):\n",
        "  print(child.string)"
      ],
      "execution_count": null,
      "outputs": [
        {
          "output_type": "stream",
          "name": "stdout",
          "text": [
            "\n",
            "\n",
            "First para\n",
            "\n",
            "\n",
            "second para\n",
            "\n",
            "\n",
            "Link1\n",
            "\n",
            "\n",
            "Link2\n",
            "\n",
            "\n"
          ]
        }
      ]
    },
    {
      "cell_type": "code",
      "metadata": {
        "colab": {
          "base_uri": "https://localhost:8080/"
        },
        "id": "-YhQOfrj4sJO",
        "outputId": "e0dd506e-d3ff-4886-8abf-254c87c65b12"
      },
      "source": [
        "soup.p"
      ],
      "execution_count": null,
      "outputs": [
        {
          "output_type": "execute_result",
          "data": {
            "text/plain": [
              "<p>This is a paragraph.</p>"
            ]
          },
          "metadata": {},
          "execution_count": 34
        }
      ]
    },
    {
      "cell_type": "code",
      "metadata": {
        "colab": {
          "base_uri": "https://localhost:8080/",
          "height": 35
        },
        "id": "HNR6_3H446v0",
        "outputId": "bd1559e8-f44f-4bd0-b8c8-32f87ad1d6c8"
      },
      "source": [
        "soup.find(\"p\",class_=\"first\").string"
      ],
      "execution_count": null,
      "outputs": [
        {
          "output_type": "execute_result",
          "data": {
            "application/vnd.google.colaboratory.intrinsic+json": {
              "type": "string"
            },
            "text/plain": [
              "'First para'"
            ]
          },
          "metadata": {},
          "execution_count": 38
        }
      ]
    },
    {
      "cell_type": "code",
      "metadata": {
        "colab": {
          "base_uri": "https://localhost:8080/"
        },
        "id": "-opfbLWs5Q1X",
        "outputId": "e4cbf992-18d6-4506-e12e-f378f8b92961"
      },
      "source": [
        "plist = soup.find_all(\"p\")\n",
        "for item in plist:\n",
        "  print(item.string)"
      ],
      "execution_count": null,
      "outputs": [
        {
          "output_type": "stream",
          "name": "stdout",
          "text": [
            "This is a paragraph.\n",
            "First para\n",
            "second para\n"
          ]
        }
      ]
    },
    {
      "cell_type": "code",
      "metadata": {
        "id": "VeF2PVDP6FbE"
      },
      "source": [
        "import requests"
      ],
      "execution_count": null,
      "outputs": []
    },
    {
      "cell_type": "code",
      "metadata": {
        "id": "6L8oVY3t6a0U"
      },
      "source": [
        "page=requests.get(\"https://www.flipkart.com/mobiles/apple~brand/pr?sid=tyy,4io&cmpid=sem_3856208402_Mobiles_dsa_goog&gclid=Cj0KCQiA7oyNBhDiARIsADtGRZYlSGNRzLumpuIvz4pk1J6-ta4lLUxwMIrwNcpkU8QY1KcT-wroy5AaAtrzEALw_wcB\")"
      ],
      "execution_count": null,
      "outputs": []
    },
    {
      "cell_type": "code",
      "metadata": {
        "colab": {
          "base_uri": "https://localhost:8080/"
        },
        "id": "IdbTlllI6lKj",
        "outputId": "622cba40-e4eb-49f6-eb5f-37cbd88301dc"
      },
      "source": [
        "page"
      ],
      "execution_count": null,
      "outputs": [
        {
          "output_type": "execute_result",
          "data": {
            "text/plain": [
              "<Response [200]>"
            ]
          },
          "metadata": {},
          "execution_count": 45
        }
      ]
    },
    {
      "cell_type": "code",
      "metadata": {
        "id": "mf7bH9qF6ve9"
      },
      "source": [
        "soup=BeautifulSoup(page.content,\"html.parser\")"
      ],
      "execution_count": null,
      "outputs": []
    },
    {
      "cell_type": "code",
      "metadata": {
        "id": "AIeIs_-F6-3x"
      },
      "source": [
        "mobiles=soup.find_all(\"div\",class_=\"_3pLy-c row\")"
      ],
      "execution_count": null,
      "outputs": []
    },
    {
      "cell_type": "code",
      "metadata": {
        "colab": {
          "base_uri": "https://localhost:8080/"
        },
        "id": "12mQUbpk8aIQ",
        "outputId": "f2b4bc6d-eee6-4dcc-a1a8-d1790f7d9898"
      },
      "source": [
        "print(len(mobiles))"
      ],
      "execution_count": null,
      "outputs": [
        {
          "output_type": "stream",
          "name": "stdout",
          "text": [
            "24\n"
          ]
        }
      ]
    },
    {
      "cell_type": "code",
      "metadata": {
        "id": "t2vUsFil8gF0"
      },
      "source": [
        "names=[]\n",
        "price=[]\n",
        "front_camera=[]\n",
        "\n",
        "\n",
        "for mobile in mobiles:\n",
        "  name=mobile.find(\"div\",class_=\"_4rR01T\").text\n",
        "  names.append(name)\n",
        "  prices=mobile.find(\"div\",class_=\"_30jeq3 _1_WHN1\").text\n",
        "  price.append(prices)\n",
        "  ul=soup.find(\"ul\",class_=\"_1xgFaf\")\n",
        "  camera=ul.find_all(\"li\")[2].text\n",
        "  fc=camera.split(\" | \")[1].split(\" \")[0]\n",
        "  front_camera.append(fc)"
      ],
      "execution_count": null,
      "outputs": []
    },
    {
      "cell_type": "code",
      "metadata": {
        "colab": {
          "base_uri": "https://localhost:8080/",
          "height": 206
        },
        "id": "JvluBoCwHyJm",
        "outputId": "a99e932e-b283-4807-e840-6bccef6c5ca3"
      },
      "source": [
        "import pandas as pd\n",
        "dic = {\"names\":names,\n",
        "       \"prices\":price,\n",
        "       \"front_camera\":front_camera}\n",
        "df = pd.DataFrame(dic)\n",
        "df.head()"
      ],
      "execution_count": null,
      "outputs": [
        {
          "output_type": "execute_result",
          "data": {
            "text/html": [
              "<div>\n",
              "<style scoped>\n",
              "    .dataframe tbody tr th:only-of-type {\n",
              "        vertical-align: middle;\n",
              "    }\n",
              "\n",
              "    .dataframe tbody tr th {\n",
              "        vertical-align: top;\n",
              "    }\n",
              "\n",
              "    .dataframe thead th {\n",
              "        text-align: right;\n",
              "    }\n",
              "</style>\n",
              "<table border=\"1\" class=\"dataframe\">\n",
              "  <thead>\n",
              "    <tr style=\"text-align: right;\">\n",
              "      <th></th>\n",
              "      <th>names</th>\n",
              "      <th>prices</th>\n",
              "      <th>front_camera</th>\n",
              "    </tr>\n",
              "  </thead>\n",
              "  <tbody>\n",
              "    <tr>\n",
              "      <th>0</th>\n",
              "      <td>APPLE iPhone SE (White, 64 GB)</td>\n",
              "      <td>₹29,999</td>\n",
              "      <td>7MP</td>\n",
              "    </tr>\n",
              "    <tr>\n",
              "      <th>1</th>\n",
              "      <td>APPLE iPhone SE (Black, 64 GB)</td>\n",
              "      <td>₹29,999</td>\n",
              "      <td>7MP</td>\n",
              "    </tr>\n",
              "    <tr>\n",
              "      <th>2</th>\n",
              "      <td>APPLE iPhone 12 (Black, 64 GB)</td>\n",
              "      <td>₹56,999</td>\n",
              "      <td>7MP</td>\n",
              "    </tr>\n",
              "    <tr>\n",
              "      <th>3</th>\n",
              "      <td>APPLE iPhone 12 Mini (Purple, 128 GB)</td>\n",
              "      <td>₹49,999</td>\n",
              "      <td>7MP</td>\n",
              "    </tr>\n",
              "    <tr>\n",
              "      <th>4</th>\n",
              "      <td>APPLE iPhone 12 (Blue, 128 GB)</td>\n",
              "      <td>₹62,999</td>\n",
              "      <td>7MP</td>\n",
              "    </tr>\n",
              "  </tbody>\n",
              "</table>\n",
              "</div>"
            ],
            "text/plain": [
              "                                   names   prices front_camera\n",
              "0         APPLE iPhone SE (White, 64 GB)  ₹29,999          7MP\n",
              "1         APPLE iPhone SE (Black, 64 GB)  ₹29,999          7MP\n",
              "2         APPLE iPhone 12 (Black, 64 GB)  ₹56,999          7MP\n",
              "3  APPLE iPhone 12 Mini (Purple, 128 GB)  ₹49,999          7MP\n",
              "4         APPLE iPhone 12 (Blue, 128 GB)  ₹62,999          7MP"
            ]
          },
          "metadata": {},
          "execution_count": 82
        }
      ]
    },
    {
      "cell_type": "code",
      "metadata": {
        "id": "97LssTkqIeBH"
      },
      "source": [
        "df.to_csv(\"mobile_info.csv\")"
      ],
      "execution_count": null,
      "outputs": []
    }
  ]
}